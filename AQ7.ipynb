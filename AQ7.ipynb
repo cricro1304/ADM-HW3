{
  "nbformat": 4,
  "nbformat_minor": 0,
  "metadata": {
    "colab": {
      "provenance": []
    },
    "kernelspec": {
      "name": "python3",
      "display_name": "Python 3"
    },
    "language_info": {
      "name": "python"
    }
  },
  "cells": [
    {
      "cell_type": "markdown",
      "source": [
        "# 7). Algorithmic Question (AQ)"
      ],
      "metadata": {
        "id": "syZimWYJkqTr"
      }
    },
    {
      "cell_type": "code",
      "source": [
        "# we read from input d the numer of days and sumHours the total number of hours the employee had to work\n",
        "d, sumHours= map(int, input().split())\n",
        "limitations=[]\n",
        "lowerbound,upperbound=0,0\n",
        "output=[]\n",
        "# In the list limitations I put the lists in which in position 0 there is the minimum hours the employee has to work\n",
        "#and in position 1 there is the maximum hours the employee has to work that day, I do this for all the days creating so a list of lists\n",
        "for _ in range(d):\n",
        "  limitations.append(list(map(int,input().split())))\n",
        "# here we compute the minimum and maximum hours the employee can work in all the days e we start to set the solution putting the minimum for every day in the output\n",
        "# because for every day he is has to work at least the minimum hours\n",
        "for x in range(d):\n",
        "  lowerbound+=limitations[x][0]\n",
        "  upperbound+=limitations[x][1]\n",
        "  output.append(limitations[x][0])\n",
        "# if sumHours that is the total hours the employee has to work are out the interval of minimum and maximum hours given the limitations we print NO because the problem hasn't solution\n",
        "if sumHours>upperbound or sumHours<lowerbound:\n",
        "  print('NO')\n",
        "# instead if sumHours that is the total hours the employee has to work are in the interval of minimum and maximum hours given the limitations we print YES\n",
        "else:\n",
        "  print('YES')\n",
        "  # we check if the hours we put in the output are already enough for solving the problem and if so we print the solution\n",
        "  if sumHours==sum(output):\n",
        "    for w in output:\n",
        "            print(w, end=' ')\n",
        "# we add one hour from the first day until we reach the maximum hours he can work that day when we reach the limit we start adding to the next one,\n",
        "# we do this until we haven't added enough hours to reach sumHours\n",
        "  else:\n",
        "    for  x in range(d):\n",
        "      while output[x]<limitations[x][1] and sumHours>sum(output):\n",
        "        output[x]+=1\n",
        "# when we arrive that the total hours we put in our solution are equal to the hours the employee had to work we print the solution\n",
        "        if sum(output)==sumHours:\n",
        "          for a in output:\n",
        "            print(a, end=' ')"
      ],
      "metadata": {
        "colab": {
          "base_uri": "https://localhost:8080/"
        },
        "id": "85X7MceLk1RO",
        "outputId": "f57e4548-1e6b-4fcc-f876-d22759e7ffcc"
      },
      "execution_count": 12,
      "outputs": [
        {
          "output_type": "stream",
          "name": "stdout",
          "text": [
            "2 5 \n",
            "0 3\n",
            "2 6\n",
            "YES\n",
            "3 2 "
          ]
        }
      ]
    },
    {
      "cell_type": "markdown",
      "source": [
        "before reading on slack I thought we needed to find all the possible combinations so I wrote an algorithm that uses recursion to find all the possible solutions"
      ],
      "metadata": {
        "id": "QMG9Irajm26G"
      }
    },
    {
      "cell_type": "code",
      "source": [
        "\n",
        "def generate_all_reports():\n",
        "# this part is very similar to the algorithm that found only one solution but here we don't assign the minimum hours at every day in the beginning\n",
        "  limitations=[]\n",
        "  lowerbound,upperbound=0,0\n",
        "  d, sumHours= map(int, input().split())\n",
        "  for _ in range(d):\n",
        "    limitations.append(tuple(map(int,input().split())))\n",
        "  for x in range(d):\n",
        "    lowerbound+=limitations[x][0]\n",
        "    upperbound+=limitations[x][1]\n",
        "\n",
        "  if sumHours>upperbound or sumHours<lowerbound:\n",
        "    print('NO')\n",
        "  else:\n",
        "    print('YES')\n",
        "# if the problem has solution we call the recoursive fuction\n",
        "  recursive_function(d, sumHours, limitations)\n",
        "\n",
        "\n",
        "\n",
        "def recursive_function(d, sumHours, limitations, current_report=[]):\n",
        "\n",
        "# this is the base case if we and the days and the hours we have done we print the solution e and return to exit\n",
        "  if d == 0:\n",
        "    if sumHours == 0:\n",
        "      print(*current_report)\n",
        "    return\n",
        "# we assing the minumum and maximum hours we can work d day\n",
        "  min_limit, max_limit = limitations[-d]\n",
        "\n",
        "# here we search all the possible combinations recalling the recursive function\n",
        "  for hours in range(min_limit, min(max_limit, sumHours) + 1):\n",
        "      recursive_function(d - 1, sumHours - hours, limitations, current_report + [hours])\n",
        "generate_all_reports()"
      ],
      "metadata": {
        "colab": {
          "base_uri": "https://localhost:8080/"
        },
        "id": "1vfyF31hnNT2",
        "outputId": "39c84596-2693-496f-c4df-317d806020f5"
      },
      "execution_count": 9,
      "outputs": [
        {
          "output_type": "stream",
          "name": "stdout",
          "text": [
            "2 5\n",
            "0 1\n",
            "3 5\n",
            "YES\n",
            "0 5\n",
            "1 4\n"
          ]
        }
      ]
    },
    {
      "cell_type": "markdown",
      "source": [
        "We compute the time complexity for the algoritm that found only one possible solution becuase that was the exercise asked.\n"
      ],
      "metadata": {
        "id": "6p2L2UtFuzrU"
      }
    },
    {
      "cell_type": "markdown",
      "source": [],
      "metadata": {
        "id": "wa0JBhr9oJpc"
      }
    }
  ]
}